{
 "cells": [
  {
   "cell_type": "code",
   "execution_count": 1,
   "metadata": {
    "_cell_guid": "b1076dfc-b9ad-4769-8c92-a6c4dae69d19",
    "_uuid": "8f2839f25d086af736a60e9eeb907d3b93b6e0e5",
    "execution": {
     "iopub.execute_input": "2022-03-09T09:29:28.897419Z",
     "iopub.status.busy": "2022-03-09T09:29:28.896887Z",
     "iopub.status.idle": "2022-03-09T09:29:28.948042Z",
     "shell.execute_reply": "2022-03-09T09:29:28.947243Z",
     "shell.execute_reply.started": "2022-03-09T09:29:28.897322Z"
    },
    "papermill": {
     "duration": 0.230891,
     "end_time": "2021-03-08T07:57:06.335029",
     "exception": false,
     "start_time": "2021-03-08T07:57:06.104138",
     "status": "completed"
    },
    "tags": []
   },
   "outputs": [],
   "source": [
    "# This Python 3 environment comes with many helpful analytics libraries installed\n",
    "# It is defined by the kaggle/python Docker image: https://github.com/kaggle/docker-python\n",
    "\n",
    "import random\n",
    "import io # Input/Output Module\n",
    "import os # OS interfaces\n",
    "import cv2 # OpenCV package\n",
    "import numpy as np # linear algebra\n",
    "import pandas as pd # data processing, CSV file I/O (e.g. pd.read_csv)\n",
    "from urllib import request # module for opening HTTP requests\n",
    "from matplotlib import pyplot as plt # Plotting library\n",
    "\n",
    "import copy\n",
    "\n",
    "from sklearn.cluster import KMeans\n",
    "from scipy.spatial.distance import cdist\n",
    "from sklearn.decomposition import PCA\n",
    "from sklearn.tree import DecisionTreeClassifier\n",
    "from sklearn.ensemble import AdaBoostClassifier\n",
    "from sklearn.model_selection import GridSearchCV\n",
    "from sklearn.utils.fixes import loguniform\n",
    "from sklearn.model_selection import RandomizedSearchCV\n",
    "from sklearn.svm import SVC\n",
    "\n",
    "# For Data Augmentation\n",
    "from torchvision import transforms as tr\n",
    "from torchvision.transforms import Compose\n",
    "from PIL import Image\n",
    "\n",
    "# For VGG Classifier\n",
    "import tensorflow as tf\n",
    "import keras\n",
    "from tensorflow.keras.optimizers import Adam\n",
    "from keras.models import Sequential, Model\n",
    "from keras.layers import Dense, Conv2D, MaxPool2D , Flatten, ZeroPadding2D, GlobalAveragePooling2D\n",
    "from keras.callbacks import ModelCheckpoint, EarlyStopping\n",
    "# from keras.layers.normalization import BatchNormalization"
   ]
  },
  {
   "cell_type": "markdown",
   "metadata": {
    "papermill": {
     "duration": 0.022868,
     "end_time": "2021-03-08T07:57:06.382109",
     "exception": false,
     "start_time": "2021-03-08T07:57:06.359241",
     "status": "completed"
    },
    "tags": []
   },
   "source": [
    "<div style=\"width:100%; height:140px\">\n",
    "    <img src=\"https://www.kuleuven.be/internationaal/thinktank/fotos-en-logos/ku-leuven-logo.png/image_preview\" width = 300px, heigh = auto align=left>\n",
    "</div>\n",
    "\n",
    "\n",
    "KUL H02A5a Computer Vision: Group Assignment 1\n",
    "---------------------------------------------------------------\n",
    "Student numbers: <span style=\"color:red\">r0876133, r0876755, r3, r4, r5</span>.\n",
    "\n",
    "The goal of this assignment is to explore more advanced techniques for constructing features that better describe objects of interest and to perform face recognition using these features. This assignment will be delivered in groups of 5 (either composed by you or randomly assigned by your TA's).\n",
    "\n",
    "In this assignment you are a group of computer vision experts that have been invited to ECCV 2021 to do a tutorial about  \"Feature representations, then and now\". To prepare the tutorial you are asked to participate in a kaggle competition and to release a notebook that can be easily studied by the tutorial participants. Your target audience is: (master) students who want to get a first hands-on introduction to the techniques that you apply.\n",
    "\n",
    "---------------------------------------------------------------\n",
    "This notebook is structured as follows:\n",
    "\n",
    "0. Data loading & Preprocessing\n",
    "1. Feature Representations\n",
    "2. Evaluation Metrics \n",
    "3. Classifiers\n",
    "4. Experiments\n",
    "5. Publishing best results\n",
    "6. Discussion\n",
    "\n",
    "Make sure that your notebook is **self-contained** and **fully documented**. Walk us through all steps of your code. Treat your notebook as a tutorial for students who need to get a first hands-on introduction to the techniques that you apply. Provide strong arguments for the design choices that you made and what insights you got from your experiments. Make use of the *Group assignment* forum/discussion board on Toledo if you have any questions.\n",
    "\n",
    "Fill in your student numbers above and get to it! Good luck! \n",
    "\n",
    "\n",
    "<div class=\"alert alert-block alert-info\">\n",
    "<b>NOTE:</b> This notebook is just a example/template, feel free to adjust in any way you please! Just keep things organised and document accordingly!\n",
    "</div>\n",
    "\n",
    "<div class=\"alert alert-block alert-info\">\n",
    "<b>NOTE:</b> Clearly indicate the improvements that you make!!! You can for instance use titles like: <i>3.1. Improvement: Non-linear SVM with RBF Kernel.<i>\n",
    "</div>\n",
    "    \n",
    "---------------------------------------------------------------\n",
    "# 0. Data loading & Preprocessing\n",
    "\n",
    "## 0.1. Loading data\n",
    "The training set is many times smaller than the test set and this might strike you as odd, however, this is close to a real world scenario where your system might be put through daily use! In this session we will try to do the best we can with the data that we've got! "
   ]
  },
  {
   "cell_type": "code",
   "execution_count": 2,
   "metadata": {
    "execution": {
     "iopub.execute_input": "2022-03-09T09:29:28.954193Z",
     "iopub.status.busy": "2022-03-09T09:29:28.953352Z",
     "iopub.status.idle": "2022-03-09T09:29:32.840002Z",
     "shell.execute_reply": "2022-03-09T09:29:32.839124Z",
     "shell.execute_reply.started": "2022-03-09T09:29:28.954147Z"
    },
    "papermill": {
     "duration": 37.543619,
     "end_time": "2021-03-08T07:57:43.9495",
     "exception": false,
     "start_time": "2021-03-08T07:57:06.405881",
     "status": "completed"
    },
    "tags": []
   },
   "outputs": [
    {
     "data": {
      "text/plain": [
       "'The training set contains 80 examples, the test set contains 1816 examples.'"
      ]
     },
     "execution_count": 2,
     "metadata": {},
     "output_type": "execute_result"
    }
   ],
   "source": [
    "# Input data files are available in the read-only \"../input/\" directory\n",
    "\n",
    "train = pd.read_csv(\n",
    "    './kaggle/input/kul-h02a5a-computer-vision-ga1-2022/train_set.csv', index_col = 0)\n",
    "train.index = train.index.rename('id')\n",
    "\n",
    "test = pd.read_csv(\n",
    "    './kaggle/input/kul-h02a5a-computer-vision-ga1-2022/test_set.csv', index_col = 0)\n",
    "test.index = test.index.rename('id')\n",
    "\n",
    "# read the images as numpy arrays and store in \"img\" column\n",
    "train['img'] = [cv2.cvtColor(np.load('./kaggle/input/kul-h02a5a-computer-vision-ga1-2022/train/train_{}.npy'.format(index), allow_pickle=False), cv2.COLOR_BGR2RGB) \n",
    "                for index, row in train.iterrows()]\n",
    "\n",
    "test['img'] = [cv2.cvtColor(np.load('./kaggle/input/kul-h02a5a-computer-vision-ga1-2022/test/test_{}.npy'.format(index), allow_pickle=False), cv2.COLOR_BGR2RGB) \n",
    "                for index, row in test.iterrows()]\n",
    "  \n",
    "\n",
    "train_size, test_size = len(train),len(test)\n",
    "\n",
    "\"The training set contains {} examples, the test set contains {} examples.\".format(train_size, test_size)"
   ]
  },
  {
   "cell_type": "markdown",
   "metadata": {
    "papermill": {
     "duration": 0.023377,
     "end_time": "2021-03-08T07:57:43.997466",
     "exception": false,
     "start_time": "2021-03-08T07:57:43.974089",
     "status": "completed"
    },
    "tags": []
   },
   "source": [
    "*Note: this dataset is a subset of the* [*VGG face dataset*](https://www.robots.ox.ac.uk/~vgg/data/vgg_face/).\n",
    "\n",
    "## 0.2. A first look\n",
    "Let's have a look at the data columns and class distribution."
   ]
  },
  {
   "cell_type": "code",
   "execution_count": null,
   "metadata": {
    "execution": {
     "iopub.execute_input": "2022-03-09T09:29:32.841625Z",
     "iopub.status.busy": "2022-03-09T09:29:32.841363Z"
    },
    "papermill": {
     "duration": 3.315629,
     "end_time": "2021-03-08T07:57:47.336913",
     "exception": false,
     "start_time": "2021-03-08T07:57:44.021284",
     "status": "completed"
    },
    "tags": []
   },
   "outputs": [],
   "source": [
    "# The training set contains an identifier, name, image information and class label\n",
    "train.head(1)"
   ]
  },
  {
   "cell_type": "code",
   "execution_count": null,
   "metadata": {
    "papermill": {
     "duration": 3.283501,
     "end_time": "2021-03-08T07:57:50.644778",
     "exception": false,
     "start_time": "2021-03-08T07:57:47.361277",
     "status": "completed"
    },
    "tags": []
   },
   "outputs": [],
   "source": [
    "# The test set only contains an identifier and corresponding image information.\n",
    "\n",
    "test.head(1)"
   ]
  },
  {
   "cell_type": "code",
   "execution_count": null,
   "metadata": {
    "papermill": {
     "duration": 0.046628,
     "end_time": "2021-03-08T07:57:50.716317",
     "exception": false,
     "start_time": "2021-03-08T07:57:50.669689",
     "status": "completed"
    },
    "tags": []
   },
   "outputs": [],
   "source": [
    "# The class distribution in the training set:\n",
    "train.groupby('name').agg({'img':'count', 'class': 'max'})"
   ]
  },
  {
   "cell_type": "markdown",
   "metadata": {
    "papermill": {
     "duration": 0.025108,
     "end_time": "2021-03-08T07:57:50.766719",
     "exception": false,
     "start_time": "2021-03-08T07:57:50.741611",
     "status": "completed"
    },
    "tags": []
   },
   "source": [
    "Note that **Jesse is assigned the classification label 1**, and **Mila is assigned the classification label 2**. The dataset also contains 20 images of **look alikes (assigned classification label 0)** and the raw images. \n",
    "\n",
    "## 0.3. Preprocess data\n",
    "### 0.3.1 Example: HAAR face detector\n",
    "In this example we use the [HAAR feature based cascade classifiers](https://opencv-python-tutroals.readthedocs.io/en/latest/py_tutorials/py_objdetect/py_face_detection/py_face_detection.html) to detect faces, then the faces are resized so that they all have the same shape. If there are multiple faces in an image, we only take the first one. \n",
    "\n",
    "<div class=\"alert alert-block alert-info\"> <b>NOTE:</b> You can write temporary files to <code>/kaggle/temp/</code> or <code>../../tmp</code>, but they won't be saved outside of the current session\n",
    "</div>\n"
   ]
  },
  {
   "cell_type": "code",
   "execution_count": 3,
   "metadata": {
    "papermill": {
     "duration": 0.042776,
     "end_time": "2021-03-08T07:57:50.834913",
     "exception": false,
     "start_time": "2021-03-08T07:57:50.792137",
     "status": "completed"
    },
    "tags": []
   },
   "outputs": [],
   "source": [
    "class HAARPreprocessor():\n",
    "    \"\"\"Preprocessing pipeline built around HAAR feature based cascade classifiers. \"\"\"\n",
    "    \n",
    "    def __init__(self, path, face_size):\n",
    "        self.face_size = face_size\n",
    "        file_path = os.path.join(path, \"haarcascade_frontalface_default.xml\")\n",
    "        if not os.path.exists(file_path): \n",
    "            if not os.path.exists(path):\n",
    "                os.mkdir(path)\n",
    "            self.download_model(file_path)\n",
    "        \n",
    "        self.classifier = cv2.CascadeClassifier(file_path)\n",
    "  \n",
    "    def download_model(self, path):\n",
    "        url = \"https://raw.githubusercontent.com/opencv/opencv/master/data/\"\\\n",
    "            \"haarcascades/haarcascade_frontalface_default.xml\"\n",
    "        \n",
    "        with request.urlopen(url) as r, open(path, 'wb') as f:\n",
    "            f.write(r.read())\n",
    "            \n",
    "    def detect_faces(self, img):\n",
    "        \"\"\"Detect all faces in an image.\"\"\"        \n",
    "        img_gray = cv2.cvtColor(img, cv2.COLOR_BGR2GRAY)\n",
    "        norm_img = np.zeros((FACE_SIZE[0], FACE_SIZE[1]))\n",
    "        img_gray = cv2.normalize(img_gray, norm_img, 0, 255, cv2.NORM_MINMAX)\n",
    "        return self.classifier.detectMultiScale(\n",
    "            img_gray,\n",
    "            scaleFactor=1.25,\n",
    "            minNeighbors=4,\n",
    "            minSize=(40, 40),\n",
    "            flags=cv2.CASCADE_SCALE_IMAGE  \n",
    "        )\n",
    "        \n",
    "    def extract_faces(self, img):\n",
    "        \"\"\"Returns all faces (cropped) in an image.\"\"\"\n",
    "        \n",
    "        faces = self.detect_faces(img)\n",
    "\n",
    "        return [img[y:y+h, x:x+w] for (x, y, w, h) in faces]\n",
    "    \n",
    "    def preprocess(self, data_row):\n",
    "        faces = self.extract_faces(data_row['img'])\n",
    "        \n",
    "        # if no faces were found, return None\n",
    "        if len(faces) == 0:\n",
    "            nan_img = np.empty(self.face_size + (3,))\n",
    "            nan_img[:] = np.nan\n",
    "            return nan_img\n",
    "        # only return the first face\n",
    "        return cv2.resize(faces[0], self.face_size, interpolation = cv2.INTER_AREA)\n",
    "            \n",
    "    def __call__(self, data):\n",
    "        return np.stack([self.preprocess(row) for _, row in data.iterrows()]).astype(int)"
   ]
  },
  {
   "cell_type": "markdown",
   "metadata": {},
   "source": [
    "DNNPreprocessor improves the HAARPreprocessor. Probably best performing face detector."
   ]
  },
  {
   "cell_type": "code",
   "execution_count": 4,
   "metadata": {},
   "outputs": [],
   "source": [
    "class DNNPreprocessor():\n",
    "    \"\"\"Preprocessing pipeline built around HAAR feature based cascade classifiers. \"\"\"\n",
    "    \n",
    "    def __init__(self, face_size):\n",
    "        self.face_size = face_size\n",
    "        self.modelFile = \"./models/opencv_face_detector.caffemodel\"\n",
    "        self.configFile = \"./models/deploy.prototxt.txt\"\n",
    "        self.net = cv2.dnn.readNetFromCaffe(self.configFile, self.modelFile)\n",
    "        self.default_confidence = 0.5\n",
    "    \n",
    "            \n",
    "    def detect_faces(self, img):\n",
    "        \"\"\"Detect all faces in an image.\"\"\"\n",
    "        blob = cv2.dnn.blobFromImage(cv2.resize(img, (300, 300)), 1.0,(300, 300), (104.0, 117.0, 123.0))\n",
    "        self.net.setInput(blob)\n",
    "        return self.net.forward()\n",
    "        \n",
    "    def extract_faces(self, img):\n",
    "        \"\"\"Returns all faces (cropped) in an image.\"\"\"\n",
    "        confidence = self.default_confidence\n",
    "        faces = []\n",
    "        h, w = img.shape[:2]\n",
    "        f = self.detect_faces(img)\n",
    "        #to draw faces on image\n",
    "        for i in range(f.shape[2]):\n",
    "                c = f[0, 0, i, 2]\n",
    "                if c > confidence and confidence == 0.5:\n",
    "                    faces.append((f[0, 0, i, 3:7] * np.array([w, h, w, h])).astype(\"int\"))\n",
    "                    confidence = c\n",
    "                elif c > confidence and confidence != 0.5:\n",
    "                    faces.pop()\n",
    "                    faces.append((f[0, 0, i, 3:7] * np.array([w, h, w, h])).astype(\"int\"))\n",
    "                    confidence = c\n",
    "                    \n",
    "        return [img[y:y1, x:x1]  for (x, y, x1, y1) in faces]\n",
    "    \n",
    "    def preprocess(self, data_row):\n",
    "        faces = self.extract_faces(data_row['img'])\n",
    "        \n",
    "        # if no faces were found, return None\n",
    "        if len(faces) == 0:\n",
    "            nan_img = np.empty(self.face_size + (3,))\n",
    "            nan_img[:] = np.nan\n",
    "            return nan_img\n",
    "        # only return the first face\n",
    "        return cv2.resize(faces[0], self.face_size, interpolation = cv2.INTER_AREA)\n",
    "            \n",
    "    def __call__(self, data):\n",
    "        return np.stack([self.preprocess(row) for _, row in data.iterrows()]).astype(int)"
   ]
  },
  {
   "cell_type": "markdown",
   "metadata": {
    "papermill": {
     "duration": 0.025332,
     "end_time": "2021-03-08T07:57:50.885849",
     "exception": false,
     "start_time": "2021-03-08T07:57:50.860517",
     "status": "completed"
    },
    "tags": []
   },
   "source": [
    "**Visualise**\n",
    "\n",
    "Let's plot a few examples."
   ]
  },
  {
   "cell_type": "code",
   "execution_count": 5,
   "metadata": {
    "papermill": {
     "duration": 62.263517,
     "end_time": "2021-03-08T07:58:53.174859",
     "exception": false,
     "start_time": "2021-03-08T07:57:50.911342",
     "status": "completed"
    },
    "tags": []
   },
   "outputs": [],
   "source": [
    "# parameter to play with \n",
    "FACE_SIZE = (224, 224)\n",
    "\n",
    "def plot_image_sequence(data, n, imgs_per_row=7):\n",
    "    n_rows = 1 + int(n/(imgs_per_row+1))\n",
    "    n_cols = min(imgs_per_row, n)\n",
    "\n",
    "    f,ax = plt.subplots(n_rows,n_cols, figsize=(10*n_cols,10*n_rows))\n",
    "    for i in range(n):\n",
    "        if n == 1:\n",
    "            ax.imshow(data[i].astype('uint8'))\n",
    "        elif n_rows > 1:\n",
    "            ax[int(i/imgs_per_row),int(i%imgs_per_row)].imshow(data[i].astype('uint8'))\n",
    "        else:\n",
    "            ax[int(i%n)].imshow(data[i].astype('uint8'))\n",
    "    plt.show()\n",
    "\n",
    "    \n",
    "#preprocessed data \n",
    "preprocessor = DNNPreprocessor(face_size=FACE_SIZE)\n",
    "\n",
    "train_modified = copy.deepcopy(train)\n",
    "\n",
    "# #train_set preprocessing to improve the performance of the face_detector.\n",
    "# #Double face in a single image are removed. \n",
    "train_img = train_modified['img'].values\n",
    "train_img[5] = train_img[5][0:400, :]\n",
    "train_img[70] = train_img[70][:, 150:]\n",
    "train_img[61] = train_img[61][:, 100:]\n",
    "train_img[60] = train_img[60][0:1500,:]\n",
    "train_img[59] = train_img[59][:, 200:]\n",
    "train_img[53] = train_img[53][:, 250:]\n",
    "train_img[52] = train_img[52][:, 300:]\n",
    "train_img[50] = train_img[50][0:300,:]\n",
    "train_img[49] = train_img[49][:, 0:150]\n",
    "train_img[41] = train_img[41][:, 0:200]\n",
    "train_img[39] = train_img[39][:, 125:225]\n",
    "train_img[40] = train_img[40][:, 100:]\n",
    "train_img[34] = train_img[34][:, 200:400]\n",
    "train_img[29] = train_img[29][:, :400]\n",
    "train_img[28] = train_img[28][:, 0:500]\n",
    "train_img[18] = train_img[18][:, :250]\n",
    "\n",
    "train_X, train_y = preprocessor(train_modified), train['class'].values\n",
    "\n",
    "#Image65 is wrong (total black), so it is eliminated\n",
    "train_X = np.delete(train_X, 65, axis=0)\n",
    "train_y = np.delete(train_y, 65, axis=0)\n",
    "\n",
    "test_X = preprocessor(test)"
   ]
  },
  {
   "cell_type": "code",
   "execution_count": null,
   "metadata": {
    "papermill": {
     "duration": 2.635787,
     "end_time": "2021-03-08T07:58:55.836611",
     "exception": false,
     "start_time": "2021-03-08T07:58:53.200824",
     "status": "completed"
    },
    "tags": []
   },
   "outputs": [],
   "source": [
    "# plot faces of Michael and Sarah\n",
    "\n",
    "plot_image_sequence(train_X[train_y == 0], n=train_X[train_y == 0].shape[0], imgs_per_row=10)"
   ]
  },
  {
   "cell_type": "code",
   "execution_count": null,
   "metadata": {
    "papermill": {
     "duration": 3.840961,
     "end_time": "2021-03-08T07:58:59.72249",
     "exception": false,
     "start_time": "2021-03-08T07:58:55.881529",
     "status": "completed"
    },
    "tags": []
   },
   "outputs": [],
   "source": [
    "# plot faces of Jesse\n",
    "\n",
    "plot_image_sequence(train_X[train_y == 1], n=train_X[train_y == 1].shape[0], imgs_per_row=10)"
   ]
  },
  {
   "cell_type": "code",
   "execution_count": null,
   "metadata": {
    "papermill": {
     "duration": 3.910256,
     "end_time": "2021-03-08T07:59:03.703299",
     "exception": false,
     "start_time": "2021-03-08T07:58:59.793043",
     "status": "completed"
    },
    "tags": []
   },
   "outputs": [],
   "source": [
    "# plot faces of Mila\n",
    "\n",
    "plot_image_sequence(train_X[train_y == 2], n=train_X[train_y == 2].shape[0], imgs_per_row=10)"
   ]
  },
  {
   "cell_type": "markdown",
   "metadata": {
    "papermill": {
     "duration": 0.100995,
     "end_time": "2021-03-08T07:59:03.904684",
     "exception": false,
     "start_time": "2021-03-08T07:59:03.803689",
     "status": "completed"
    },
    "tags": []
   },
   "source": [
    "\n",
    "## 0.4. Store Preprocessed data (optional)\n",
    "<div class=\"alert alert-block alert-info\">\n",
    "<b>NOTE:</b> You can write up to 20GB to the current directory (/kaggle/working/) that gets preserved as output when you create a version using \"Save & Run All\". Feel free to use this to store intermediary results.\n",
    "</div>\n",
    "\n",
    "Data after data augmentation can be stored using the code in this cell."
   ]
  },
  {
   "cell_type": "code",
   "execution_count": null,
   "metadata": {
    "papermill": {
     "duration": 0.109823,
     "end_time": "2021-03-08T07:59:04.11528",
     "exception": false,
     "start_time": "2021-03-08T07:59:04.005457",
     "status": "completed"
    },
    "tags": []
   },
   "outputs": [],
   "source": [
    "prep_path = './kaggle/working/prepped_data/'"
   ]
  },
  {
   "cell_type": "code",
   "execution_count": null,
   "metadata": {},
   "outputs": [],
   "source": [
    "# save preprocessed data\n",
    "# np.save(os.path.join(prep_path, 'train_X.npy'), train_X)\n",
    "# np.save(os.path.join(prep_path, 'train_y.npy'), train_y)\n",
    "# np.save(os.path.join(prep_path, 'test_X.npy'), test_X)"
   ]
  },
  {
   "cell_type": "code",
   "execution_count": null,
   "metadata": {},
   "outputs": [],
   "source": [
    "# load preprocessed data\n",
    "# train_X = np.load(os.path.join(prep_path, 'train_X.npy'))\n",
    "# train_y = np.load(os.path.join(prep_path, 'train_y.npy'))\n",
    "# test_X = np.load(os.path.join(prep_path, 'test_X.npy'))"
   ]
  },
  {
   "cell_type": "markdown",
   "metadata": {},
   "source": [
    "## 0.5 Data Augmentation"
   ]
  },
  {
   "cell_type": "markdown",
   "metadata": {},
   "source": [
    "### Data Augmentation: image flip\n",
    "\n",
    "The plot below explains the flip operation. This occurs when the probability is between 0 and 0.3"
   ]
  },
  {
   "cell_type": "code",
   "execution_count": null,
   "metadata": {},
   "outputs": [],
   "source": [
    "data = [train_X[9]]\n",
    "data.append(cv2.flip(train_X[9], 1))\n",
    "\n",
    "plot_image_sequence(data, 2, imgs_per_row=2)"
   ]
  },
  {
   "cell_type": "markdown",
   "metadata": {},
   "source": [
    "### Data Augmentation: image rotation\n",
    "\n",
    "The plot below shows the rotation operation. This occurs when the probability is between 0.3 and 0.6"
   ]
  },
  {
   "cell_type": "code",
   "execution_count": null,
   "metadata": {},
   "outputs": [],
   "source": [
    "pipeline = Compose(\n",
    "             [tr.RandomRotation(degrees = 90),\n",
    "              tr.RandomRotation(degrees = 270)])\n",
    "\n",
    "image = train_X[9]\n",
    "image = Image.fromarray(np.uint8(image)).convert('RGB')\n",
    "augmented_image = pipeline(img = image)\n",
    "\n",
    "data = [image, augmented_image]\n",
    "\n",
    "plt.figure()\n",
    "plt.imshow(image)\n",
    "plt.imshow(augmented_image)\n",
    "plt.show()"
   ]
  },
  {
   "cell_type": "markdown",
   "metadata": {},
   "source": [
    "### Data Augmentation: final operation\n",
    "\n",
    "The given code snippet below augments the given data, with the flip and rotation operations."
   ]
  },
  {
   "cell_type": "code",
   "execution_count": 31,
   "metadata": {},
   "outputs": [
    {
     "name": "stdout",
     "output_type": "stream",
     "text": [
      "79\n",
      "128\n"
     ]
    }
   ],
   "source": [
    "pipeline = Compose(\n",
    "             [tr.RandomRotation(degrees = 90),\n",
    "              tr.RandomRotation(degrees = 270)])\n",
    "\n",
    "# augmented_image = pipeline(img = img)\n",
    "\n",
    "print(len(train_X))\n",
    "augm_train_X = []\n",
    "augm_train_y = []\n",
    "\n",
    "threshold = 0.3\n",
    "\n",
    "for idx, im in enumerate(train_X):\n",
    "    augm_train_X.append(im)\n",
    "    augm_train_y.append(train_y[idx])\n",
    "    \n",
    "    rand = random.uniform(0, 1)\n",
    "    \n",
    "    if rand < threshold:\n",
    "        flipped = cv2.flip(im, 1)\n",
    "        augm_train_X.append(flipped)\n",
    "        augm_train_y.append(train_y[idx])\n",
    "    elif rand > threshold and rand < (threshold * 2):\n",
    "        image = Image.fromarray(np.uint8(im)).convert('RGB')\n",
    "        augmented_image = pipeline(img = image)\n",
    "        augm_train_X.append(np.array(image))\n",
    "        augm_train_y.append(train_y[idx])\n",
    "\n",
    "print(len(augm_train_X))"
   ]
  },
  {
   "cell_type": "code",
   "execution_count": 32,
   "metadata": {},
   "outputs": [],
   "source": [
    "train_X = np.array(augm_train_X)\n",
    "train_y = np.array(augm_train_y)"
   ]
  },
  {
   "cell_type": "markdown",
   "metadata": {
    "papermill": {
     "duration": 0.100101,
     "end_time": "2021-03-08T07:59:04.315571",
     "exception": false,
     "start_time": "2021-03-08T07:59:04.21547",
     "status": "completed"
    },
    "tags": []
   },
   "source": [
    "Now we are ready to rock!"
   ]
  },
  {
   "cell_type": "markdown",
   "metadata": {},
   "source": [
    "## VGG Classifier (WIP)\n",
    "\n",
    "Load the weights of VGG16 and freeze them"
   ]
  },
  {
   "cell_type": "code",
   "execution_count": 33,
   "metadata": {},
   "outputs": [],
   "source": [
    "from keras.models import Sequential\n",
    "from keras.layers import Dense, Dropout, Activation, Flatten, GlobalAveragePooling2D\n",
    "from keras.layers import Conv2D, MaxPooling2D, ZeroPadding2D\n",
    "#from tensorflow.keras.layers.normalization import BatchNormalization\n",
    "from keras.models import Model, load_model\n",
    "from tensorflow.keras.utils import to_categorical\n",
    "from keras.applications import vgg16\n",
    "from keras.preprocessing.image import ImageDataGenerator\n",
    "from tensorflow.keras.optimizers import RMSprop, SGD, Adam\n",
    "from keras.callbacks import ModelCheckpoint, EarlyStopping\n",
    "from sklearn.model_selection import train_test_split\n",
    "\n",
    "class DeepNNClassificationModel:\n",
    "    \n",
    "    def __init__(self):\n",
    "        # MobileNet was designed to work on 224 x 224 pixel input images sizes\n",
    "        self.img_rows, self.img_cols = 224, 224 \n",
    "\n",
    "        # Re-loads the MobileNet model without the top or FC layers\n",
    "        vgg = vgg16.VGG16(weights = 'imagenet', \n",
    "                         include_top = False, \n",
    "                         input_shape = (self.img_rows, self.img_cols, 3))\n",
    "\n",
    "        # Here we freeze the vgg layers\n",
    "        # Layers are set to trainable as True by default\n",
    "        for layer in vgg.layers:\n",
    "            layer.trainable = False\n",
    "        \n",
    "        num_classes = 3\n",
    "\n",
    "        FC_Head = self.lw(vgg, num_classes)\n",
    "\n",
    "        self.model = Model(inputs = vgg.input, outputs = FC_Head)\n",
    "\n",
    "    def lw(self, bottom_model, num_classes):\n",
    "        \"\"\"creates the top or head of the model that will be \n",
    "        placed ontop of the bottom layers\"\"\"\n",
    "\n",
    "        top_model = bottom_model.output\n",
    "        top_model = GlobalAveragePooling2D()(top_model)\n",
    "        top_model = Dense(1024,activation='relu')(top_model)\n",
    "        top_model = Dense(1024,activation='relu')(top_model)\n",
    "        top_model = Dense(512,activation='relu')(top_model)\n",
    "        top_model = Dense(num_classes,activation='softmax')(top_model)\n",
    "        return top_model \n",
    "\n",
    "    def fit(self, X, y):\n",
    "        \n",
    "        X_train = np.zeros((X.shape[0],self.img_rows,self.img_cols,3))\n",
    "        i=0\n",
    "        for x in X:\n",
    "            x = x.astype(dtype=\"uint8\")\n",
    "            X_train[i] = cv2.resize(x, (self.img_rows,self.img_cols),interpolation = cv2.INTER_AREA)\n",
    "            X_train[i] = cv2.GaussianBlur(X_train[i], (5,5), 0)\n",
    "            i+=1\n",
    "        \n",
    "        train_X, val_X, train_y, val_y = train_test_split(X, y, test_size=0.3, stratify = y, random_state=42)\n",
    "        \n",
    "        train_y=to_categorical(train_y) # convert Y into an one-hot vector\n",
    "        val_y=to_categorical(val_y) # convert Y into an one-hot vector\n",
    "        \n",
    "        # Let's use some data augmentation \n",
    "        train_datagen = ImageDataGenerator(\n",
    "              rescale=1./255,\n",
    "#               rotation_range=45,\n",
    "#               width_shift_range=0.3,\n",
    "#               height_shift_range=0.3,\n",
    "#               horizontal_flip=True,\n",
    "#               fill_mode='nearest'\n",
    "        )\n",
    "        \n",
    "        validation_datagen = ImageDataGenerator(\n",
    "              rescale=1./255\n",
    "        )\n",
    "        \n",
    "        # We use a very small learning rate \n",
    "        # 'categorical_crossentropy'\n",
    "        self.model.compile(loss = 'kl_divergence',\n",
    "                      optimizer = Adam(learning_rate=0.0001),\n",
    "                      metrics = ['accuracy'])\n",
    "        \n",
    "        # set our batch size (typically on most mid tier systems we'll use 16-32)\n",
    "        batch_size = 16\n",
    "        nb_train_samples = 32\n",
    "        nb_validation_samples = 16\n",
    "        epochs = 100\n",
    "        \n",
    "        train_generator = train_datagen.flow(\n",
    "                train_X, train_y,\n",
    "                batch_size=16)\n",
    "        \n",
    "        validation_generator = validation_datagen.flow(\n",
    "                val_X, val_y,\n",
    "                batch_size = 16)\n",
    "        \n",
    "        checkpoint = ModelCheckpoint(\"face_recognisation.h5\",\n",
    "                             monitor=\"val_loss\",\n",
    "                             mode=\"min\",\n",
    "                             save_best_only = True,\n",
    "                             verbose=1)\n",
    "\n",
    "        earlystop = EarlyStopping(monitor = 'val_loss', \n",
    "                                  min_delta = 0, \n",
    "                                  patience = 20,\n",
    "                                  verbose = 1,\n",
    "                                  restore_best_weights = True)\n",
    "\n",
    "        # we put our call backs into a callback list\n",
    "        callbacks = [earlystop, checkpoint]\n",
    "\n",
    "        history = self.model.fit(\n",
    "            train_generator,\n",
    "            batch_size=batch_size,\n",
    "            steps_per_epoch = nb_train_samples // batch_size,\n",
    "            epochs = epochs,\n",
    "            callbacks = callbacks,\n",
    "            validation_data = validation_generator,\n",
    "            validation_steps = nb_validation_samples // batch_size)\n",
    "        \n",
    "        return history\n",
    "        \n",
    "    def predict(self, X):\n",
    "        classifier = load_model('face_recognisation.h5')\n",
    "        y=[]\n",
    "        for input_im in X:\n",
    "            input_im = input_im.astype(dtype=\"uint8\")\n",
    "            input_im = cv2.resize(input_im, (self.img_rows, self.img_cols), interpolation = cv2.INTER_LINEAR)\n",
    "            input_im = input_im / 255.\n",
    "            input_im = input_im.reshape(1,self.img_rows,self.img_cols,3) \n",
    "            \n",
    "            res = np.argmax(classifier.predict(input_im, verbose = 0), axis=1)\n",
    "            y.append(res)\n",
    "            \n",
    "        return np.array(y, dtype=\"int\")\n",
    "    \n",
    "    def __call__(self, X):\n",
    "        return self.predict(X)"
   ]
  },
  {
   "cell_type": "code",
   "execution_count": 34,
   "metadata": {
    "scrolled": true
   },
   "outputs": [
    {
     "name": "stdout",
     "output_type": "stream",
     "text": [
      "Epoch 1/100\n",
      "2/2 [==============================] - ETA: 0s - loss: 1.1402 - accuracy: 0.4062\n",
      "Epoch 1: val_loss improved from inf to 1.10531, saving model to face_recognisation.h5\n",
      "2/2 [==============================] - 4s 2s/step - loss: 1.1402 - accuracy: 0.4062 - val_loss: 1.1053 - val_accuracy: 0.5000\n",
      "Epoch 2/100\n",
      "2/2 [==============================] - ETA: 0s - loss: 1.0177 - accuracy: 0.5312\n",
      "Epoch 2: val_loss did not improve from 1.10531\n",
      "2/2 [==============================] - 3s 2s/step - loss: 1.0177 - accuracy: 0.5312 - val_loss: 1.1682 - val_accuracy: 0.2500\n",
      "Epoch 3/100\n",
      "2/2 [==============================] - ETA: 0s - loss: 0.9983 - accuracy: 0.4400\n",
      "Epoch 3: val_loss improved from 1.10531 to 1.04268, saving model to face_recognisation.h5\n",
      "2/2 [==============================] - 3s 2s/step - loss: 0.9983 - accuracy: 0.4400 - val_loss: 1.0427 - val_accuracy: 0.5000\n",
      "Epoch 4/100\n",
      "2/2 [==============================] - ETA: 0s - loss: 1.0143 - accuracy: 0.4688\n",
      "Epoch 4: val_loss improved from 1.04268 to 0.95209, saving model to face_recognisation.h5\n",
      "2/2 [==============================] - 3s 2s/step - loss: 1.0143 - accuracy: 0.4688 - val_loss: 0.9521 - val_accuracy: 0.6875\n",
      "Epoch 5/100\n",
      "2/2 [==============================] - ETA: 0s - loss: 0.9850 - accuracy: 0.6562\n",
      "Epoch 5: val_loss did not improve from 0.95209\n",
      "2/2 [==============================] - 3s 2s/step - loss: 0.9850 - accuracy: 0.6562 - val_loss: 0.9640 - val_accuracy: 0.5000\n",
      "Epoch 6/100\n",
      "2/2 [==============================] - ETA: 0s - loss: 0.9514 - accuracy: 0.4062\n",
      "Epoch 6: val_loss did not improve from 0.95209\n",
      "2/2 [==============================] - 3s 2s/step - loss: 0.9514 - accuracy: 0.4062 - val_loss: 1.0235 - val_accuracy: 0.4375\n",
      "Epoch 7/100\n",
      "2/2 [==============================] - ETA: 0s - loss: 0.9800 - accuracy: 0.4375\n",
      "Epoch 7: val_loss did not improve from 0.95209\n",
      "2/2 [==============================] - 3s 2s/step - loss: 0.9800 - accuracy: 0.4375 - val_loss: 0.9612 - val_accuracy: 0.5625\n",
      "Epoch 8/100\n",
      "2/2 [==============================] - ETA: 0s - loss: 0.8640 - accuracy: 0.7600\n",
      "Epoch 8: val_loss improved from 0.95209 to 0.91634, saving model to face_recognisation.h5\n",
      "2/2 [==============================] - 3s 2s/step - loss: 0.8640 - accuracy: 0.7600 - val_loss: 0.9163 - val_accuracy: 0.6875\n",
      "Epoch 9/100\n",
      "2/2 [==============================] - ETA: 0s - loss: 0.7970 - accuracy: 0.8800\n",
      "Epoch 9: val_loss improved from 0.91634 to 0.82414, saving model to face_recognisation.h5\n",
      "2/2 [==============================] - 3s 2s/step - loss: 0.7970 - accuracy: 0.8800 - val_loss: 0.8241 - val_accuracy: 0.7500\n",
      "Epoch 10/100\n",
      "2/2 [==============================] - ETA: 0s - loss: 0.7980 - accuracy: 0.7188\n",
      "Epoch 10: val_loss did not improve from 0.82414\n",
      "2/2 [==============================] - 3s 2s/step - loss: 0.7980 - accuracy: 0.7188 - val_loss: 0.8831 - val_accuracy: 0.5000\n",
      "Epoch 11/100\n",
      "2/2 [==============================] - ETA: 0s - loss: 0.8846 - accuracy: 0.6000\n",
      "Epoch 11: val_loss did not improve from 0.82414\n",
      "2/2 [==============================] - 3s 2s/step - loss: 0.8846 - accuracy: 0.6000 - val_loss: 0.9263 - val_accuracy: 0.4375\n",
      "Epoch 12/100\n",
      "2/2 [==============================] - ETA: 0s - loss: 0.8332 - accuracy: 0.6800\n",
      "Epoch 12: val_loss improved from 0.82414 to 0.80118, saving model to face_recognisation.h5\n",
      "2/2 [==============================] - 3s 2s/step - loss: 0.8332 - accuracy: 0.6800 - val_loss: 0.8012 - val_accuracy: 0.6875\n",
      "Epoch 13/100\n",
      "2/2 [==============================] - ETA: 0s - loss: 0.7427 - accuracy: 0.8125\n",
      "Epoch 13: val_loss improved from 0.80118 to 0.73675, saving model to face_recognisation.h5\n",
      "2/2 [==============================] - 3s 2s/step - loss: 0.7427 - accuracy: 0.8125 - val_loss: 0.7367 - val_accuracy: 0.7500\n",
      "Epoch 14/100\n",
      "2/2 [==============================] - ETA: 0s - loss: 0.7370 - accuracy: 0.7500\n",
      "Epoch 14: val_loss did not improve from 0.73675\n",
      "2/2 [==============================] - 3s 2s/step - loss: 0.7370 - accuracy: 0.7500 - val_loss: 0.9360 - val_accuracy: 0.6250\n",
      "Epoch 15/100\n",
      "2/2 [==============================] - ETA: 0s - loss: 0.7781 - accuracy: 0.6800\n",
      "Epoch 15: val_loss did not improve from 0.73675\n",
      "2/2 [==============================] - 3s 2s/step - loss: 0.7781 - accuracy: 0.6800 - val_loss: 0.8912 - val_accuracy: 0.6250\n",
      "Epoch 16/100\n",
      "2/2 [==============================] - ETA: 0s - loss: 0.7939 - accuracy: 0.6875\n",
      "Epoch 16: val_loss did not improve from 0.73675\n",
      "2/2 [==============================] - 3s 2s/step - loss: 0.7939 - accuracy: 0.6875 - val_loss: 0.9790 - val_accuracy: 0.6250\n",
      "Epoch 17/100\n",
      "2/2 [==============================] - ETA: 0s - loss: 0.6809 - accuracy: 0.7500\n",
      "Epoch 17: val_loss improved from 0.73675 to 0.70026, saving model to face_recognisation.h5\n",
      "2/2 [==============================] - 3s 2s/step - loss: 0.6809 - accuracy: 0.7500 - val_loss: 0.7003 - val_accuracy: 0.9375\n",
      "Epoch 18/100\n",
      "2/2 [==============================] - ETA: 0s - loss: 0.7241 - accuracy: 0.8438\n",
      "Epoch 18: val_loss did not improve from 0.70026\n",
      "2/2 [==============================] - 3s 2s/step - loss: 0.7241 - accuracy: 0.8438 - val_loss: 0.7034 - val_accuracy: 0.8750\n",
      "Epoch 19/100\n",
      "2/2 [==============================] - ETA: 0s - loss: 0.6478 - accuracy: 0.8438\n",
      "Epoch 19: val_loss did not improve from 0.70026\n",
      "2/2 [==============================] - 3s 2s/step - loss: 0.6478 - accuracy: 0.8438 - val_loss: 0.7697 - val_accuracy: 0.6250\n",
      "Epoch 20/100\n",
      "2/2 [==============================] - ETA: 0s - loss: 0.6802 - accuracy: 0.7500\n",
      "Epoch 20: val_loss did not improve from 0.70026\n",
      "2/2 [==============================] - 3s 2s/step - loss: 0.6802 - accuracy: 0.7500 - val_loss: 0.8707 - val_accuracy: 0.5625\n",
      "Epoch 21/100\n",
      "2/2 [==============================] - ETA: 0s - loss: 0.6352 - accuracy: 0.7500\n",
      "Epoch 21: val_loss improved from 0.70026 to 0.67473, saving model to face_recognisation.h5\n",
      "2/2 [==============================] - 3s 2s/step - loss: 0.6352 - accuracy: 0.7500 - val_loss: 0.6747 - val_accuracy: 0.7500\n",
      "Epoch 22/100\n",
      "2/2 [==============================] - ETA: 0s - loss: 0.5734 - accuracy: 0.7812\n",
      "Epoch 22: val_loss did not improve from 0.67473\n",
      "2/2 [==============================] - 3s 2s/step - loss: 0.5734 - accuracy: 0.7812 - val_loss: 0.9290 - val_accuracy: 0.5625\n",
      "Epoch 23/100\n",
      "2/2 [==============================] - ETA: 0s - loss: 0.5597 - accuracy: 0.7812\n",
      "Epoch 23: val_loss did not improve from 0.67473\n",
      "2/2 [==============================] - 3s 2s/step - loss: 0.5597 - accuracy: 0.7812 - val_loss: 0.7797 - val_accuracy: 0.5625\n",
      "Epoch 24/100\n",
      "2/2 [==============================] - ETA: 0s - loss: 0.4141 - accuracy: 0.9200\n",
      "Epoch 24: val_loss did not improve from 0.67473\n",
      "2/2 [==============================] - 3s 2s/step - loss: 0.4141 - accuracy: 0.9200 - val_loss: 0.7694 - val_accuracy: 0.6250\n",
      "Epoch 25/100\n",
      "2/2 [==============================] - ETA: 0s - loss: 0.4750 - accuracy: 0.8400\n",
      "Epoch 25: val_loss did not improve from 0.67473\n",
      "2/2 [==============================] - 3s 2s/step - loss: 0.4750 - accuracy: 0.8400 - val_loss: 0.7362 - val_accuracy: 0.6250\n",
      "Epoch 26/100\n",
      "2/2 [==============================] - ETA: 0s - loss: 0.6553 - accuracy: 0.6875\n",
      "Epoch 26: val_loss did not improve from 0.67473\n",
      "2/2 [==============================] - 3s 2s/step - loss: 0.6553 - accuracy: 0.6875 - val_loss: 0.8175 - val_accuracy: 0.6250\n",
      "Epoch 27/100\n",
      "2/2 [==============================] - ETA: 0s - loss: 0.5692 - accuracy: 0.7600\n",
      "Epoch 27: val_loss did not improve from 0.67473\n",
      "2/2 [==============================] - 3s 2s/step - loss: 0.5692 - accuracy: 0.7600 - val_loss: 0.7875 - val_accuracy: 0.6250\n",
      "Epoch 28/100\n",
      "2/2 [==============================] - ETA: 0s - loss: 0.3274 - accuracy: 0.9600\n",
      "Epoch 28: val_loss did not improve from 0.67473\n",
      "2/2 [==============================] - 3s 2s/step - loss: 0.3274 - accuracy: 0.9600 - val_loss: 0.8918 - val_accuracy: 0.6875\n",
      "Epoch 29/100\n",
      "2/2 [==============================] - ETA: 0s - loss: 0.5040 - accuracy: 0.8400\n",
      "Epoch 29: val_loss did not improve from 0.67473\n",
      "2/2 [==============================] - 3s 2s/step - loss: 0.5040 - accuracy: 0.8400 - val_loss: 0.7860 - val_accuracy: 0.6875\n",
      "Epoch 30/100\n"
     ]
    },
    {
     "name": "stdout",
     "output_type": "stream",
     "text": [
      "2/2 [==============================] - ETA: 0s - loss: 0.5936 - accuracy: 0.6875\n",
      "Epoch 30: val_loss did not improve from 0.67473\n",
      "2/2 [==============================] - 3s 2s/step - loss: 0.5936 - accuracy: 0.6875 - val_loss: 0.7439 - val_accuracy: 0.7500\n",
      "Epoch 31/100\n",
      "2/2 [==============================] - ETA: 0s - loss: 0.5007 - accuracy: 0.8438\n",
      "Epoch 31: val_loss did not improve from 0.67473\n",
      "2/2 [==============================] - 3s 2s/step - loss: 0.5007 - accuracy: 0.8438 - val_loss: 0.7189 - val_accuracy: 0.8125\n",
      "Epoch 32/100\n",
      "2/2 [==============================] - ETA: 0s - loss: 0.4326 - accuracy: 0.9062\n",
      "Epoch 32: val_loss did not improve from 0.67473\n",
      "2/2 [==============================] - 3s 2s/step - loss: 0.4326 - accuracy: 0.9062 - val_loss: 0.8215 - val_accuracy: 0.6250\n",
      "Epoch 33/100\n",
      "2/2 [==============================] - ETA: 0s - loss: 0.5277 - accuracy: 0.7812\n",
      "Epoch 33: val_loss did not improve from 0.67473\n",
      "2/2 [==============================] - 3s 2s/step - loss: 0.5277 - accuracy: 0.7812 - val_loss: 0.7908 - val_accuracy: 0.6250\n",
      "Epoch 34/100\n",
      "2/2 [==============================] - ETA: 0s - loss: 0.4569 - accuracy: 0.7812\n",
      "Epoch 34: val_loss did not improve from 0.67473\n",
      "2/2 [==============================] - 3s 2s/step - loss: 0.4569 - accuracy: 0.7812 - val_loss: 0.7358 - val_accuracy: 0.5625\n",
      "Epoch 35/100\n",
      "2/2 [==============================] - ETA: 0s - loss: 0.5381 - accuracy: 0.8438\n",
      "Epoch 35: val_loss did not improve from 0.67473\n",
      "2/2 [==============================] - 3s 2s/step - loss: 0.5381 - accuracy: 0.8438 - val_loss: 0.8198 - val_accuracy: 0.6250\n",
      "Epoch 36/100\n",
      "2/2 [==============================] - ETA: 0s - loss: 0.4070 - accuracy: 0.8750\n",
      "Epoch 36: val_loss improved from 0.67473 to 0.56177, saving model to face_recognisation.h5\n",
      "2/2 [==============================] - 3s 2s/step - loss: 0.4070 - accuracy: 0.8750 - val_loss: 0.5618 - val_accuracy: 0.8750\n",
      "Epoch 37/100\n",
      "2/2 [==============================] - ETA: 0s - loss: 0.5223 - accuracy: 0.7200\n",
      "Epoch 37: val_loss did not improve from 0.56177\n",
      "2/2 [==============================] - 3s 2s/step - loss: 0.5223 - accuracy: 0.7200 - val_loss: 0.7542 - val_accuracy: 0.7500\n",
      "Epoch 38/100\n",
      "2/2 [==============================] - ETA: 0s - loss: 0.4388 - accuracy: 0.8000\n",
      "Epoch 38: val_loss did not improve from 0.56177\n",
      "2/2 [==============================] - 3s 2s/step - loss: 0.4388 - accuracy: 0.8000 - val_loss: 0.6758 - val_accuracy: 0.6875\n",
      "Epoch 39/100\n",
      "2/2 [==============================] - ETA: 0s - loss: 0.4408 - accuracy: 0.8400\n",
      "Epoch 39: val_loss did not improve from 0.56177\n",
      "2/2 [==============================] - 3s 2s/step - loss: 0.4408 - accuracy: 0.8400 - val_loss: 0.5856 - val_accuracy: 0.7500\n",
      "Epoch 40/100\n",
      "2/2 [==============================] - ETA: 0s - loss: 0.4076 - accuracy: 0.8125\n",
      "Epoch 40: val_loss did not improve from 0.56177\n",
      "2/2 [==============================] - 3s 2s/step - loss: 0.4076 - accuracy: 0.8125 - val_loss: 0.9269 - val_accuracy: 0.6875\n",
      "Epoch 41/100\n",
      "2/2 [==============================] - ETA: 0s - loss: 0.3762 - accuracy: 0.9200\n",
      "Epoch 41: val_loss did not improve from 0.56177\n",
      "2/2 [==============================] - 3s 2s/step - loss: 0.3762 - accuracy: 0.9200 - val_loss: 0.6768 - val_accuracy: 0.7500\n",
      "Epoch 42/100\n",
      "2/2 [==============================] - ETA: 0s - loss: 0.4057 - accuracy: 0.8438\n",
      "Epoch 42: val_loss did not improve from 0.56177\n",
      "2/2 [==============================] - 4s 2s/step - loss: 0.4057 - accuracy: 0.8438 - val_loss: 0.8370 - val_accuracy: 0.6250\n",
      "Epoch 43/100\n",
      "2/2 [==============================] - ETA: 0s - loss: 0.5007 - accuracy: 0.7600\n",
      "Epoch 43: val_loss did not improve from 0.56177\n",
      "2/2 [==============================] - 3s 2s/step - loss: 0.5007 - accuracy: 0.7600 - val_loss: 0.7995 - val_accuracy: 0.6875\n",
      "Epoch 44/100\n",
      "2/2 [==============================] - ETA: 0s - loss: 0.3552 - accuracy: 0.9200\n",
      "Epoch 44: val_loss did not improve from 0.56177\n",
      "2/2 [==============================] - 3s 2s/step - loss: 0.3552 - accuracy: 0.9200 - val_loss: 0.5939 - val_accuracy: 0.6875\n",
      "Epoch 45/100\n",
      "2/2 [==============================] - ETA: 0s - loss: 0.4452 - accuracy: 0.8000\n",
      "Epoch 45: val_loss did not improve from 0.56177\n",
      "2/2 [==============================] - 3s 2s/step - loss: 0.4452 - accuracy: 0.8000 - val_loss: 1.0749 - val_accuracy: 0.6250\n",
      "Epoch 46/100\n",
      "2/2 [==============================] - ETA: 0s - loss: 0.4412 - accuracy: 0.8750\n",
      "Epoch 46: val_loss did not improve from 0.56177\n",
      "2/2 [==============================] - 4s 2s/step - loss: 0.4412 - accuracy: 0.8750 - val_loss: 0.5626 - val_accuracy: 0.6875\n",
      "Epoch 47/100\n",
      "2/2 [==============================] - ETA: 0s - loss: 0.4007 - accuracy: 0.8438\n",
      "Epoch 47: val_loss did not improve from 0.56177\n",
      "2/2 [==============================] - 3s 2s/step - loss: 0.4007 - accuracy: 0.8438 - val_loss: 0.7162 - val_accuracy: 0.6250\n",
      "Epoch 48/100\n",
      "2/2 [==============================] - ETA: 0s - loss: 0.2229 - accuracy: 0.9600\n",
      "Epoch 48: val_loss improved from 0.56177 to 0.48840, saving model to face_recognisation.h5\n",
      "2/2 [==============================] - 3s 2s/step - loss: 0.2229 - accuracy: 0.9600 - val_loss: 0.4884 - val_accuracy: 0.8750\n",
      "Epoch 49/100\n",
      "2/2 [==============================] - ETA: 0s - loss: 0.4012 - accuracy: 0.8400\n",
      "Epoch 49: val_loss did not improve from 0.48840\n",
      "2/2 [==============================] - 3s 2s/step - loss: 0.4012 - accuracy: 0.8400 - val_loss: 0.6334 - val_accuracy: 0.6875\n",
      "Epoch 50/100\n",
      "2/2 [==============================] - ETA: 0s - loss: 0.2179 - accuracy: 0.9200\n",
      "Epoch 50: val_loss did not improve from 0.48840\n",
      "2/2 [==============================] - 3s 2s/step - loss: 0.2179 - accuracy: 0.9200 - val_loss: 0.7370 - val_accuracy: 0.6250\n",
      "Epoch 51/100\n",
      "2/2 [==============================] - ETA: 0s - loss: 0.3176 - accuracy: 0.9600\n",
      "Epoch 51: val_loss did not improve from 0.48840\n",
      "2/2 [==============================] - 3s 2s/step - loss: 0.3176 - accuracy: 0.9600 - val_loss: 0.7225 - val_accuracy: 0.6875\n",
      "Epoch 52/100\n",
      "2/2 [==============================] - ETA: 0s - loss: 0.4381 - accuracy: 0.7812\n",
      "Epoch 52: val_loss did not improve from 0.48840\n",
      "2/2 [==============================] - 3s 2s/step - loss: 0.4381 - accuracy: 0.7812 - val_loss: 0.5364 - val_accuracy: 0.7500\n",
      "Epoch 53/100\n",
      "2/2 [==============================] - ETA: 0s - loss: 0.4279 - accuracy: 0.8400\n",
      "Epoch 53: val_loss did not improve from 0.48840\n",
      "2/2 [==============================] - 3s 2s/step - loss: 0.4279 - accuracy: 0.8400 - val_loss: 0.6434 - val_accuracy: 0.7500\n",
      "Epoch 54/100\n",
      "2/2 [==============================] - ETA: 0s - loss: 0.3486 - accuracy: 0.8800\n",
      "Epoch 54: val_loss did not improve from 0.48840\n",
      "2/2 [==============================] - 3s 2s/step - loss: 0.3486 - accuracy: 0.8800 - val_loss: 0.6654 - val_accuracy: 0.7500\n",
      "Epoch 55/100\n",
      "2/2 [==============================] - ETA: 0s - loss: 0.3839 - accuracy: 0.8800\n",
      "Epoch 55: val_loss did not improve from 0.48840\n",
      "2/2 [==============================] - 3s 2s/step - loss: 0.3839 - accuracy: 0.8800 - val_loss: 0.6243 - val_accuracy: 0.7500\n",
      "Epoch 56/100\n",
      "2/2 [==============================] - ETA: 0s - loss: 0.3406 - accuracy: 0.9375\n",
      "Epoch 56: val_loss did not improve from 0.48840\n",
      "2/2 [==============================] - 3s 2s/step - loss: 0.3406 - accuracy: 0.9375 - val_loss: 0.5661 - val_accuracy: 0.8750\n",
      "Epoch 57/100\n",
      "2/2 [==============================] - ETA: 0s - loss: 0.2632 - accuracy: 0.9688\n",
      "Epoch 57: val_loss did not improve from 0.48840\n",
      "2/2 [==============================] - 3s 2s/step - loss: 0.2632 - accuracy: 0.9688 - val_loss: 0.6524 - val_accuracy: 0.7500\n",
      "Epoch 58/100\n",
      "2/2 [==============================] - ETA: 0s - loss: 0.3477 - accuracy: 0.9200\n",
      "Epoch 58: val_loss did not improve from 0.48840\n",
      "2/2 [==============================] - 3s 2s/step - loss: 0.3477 - accuracy: 0.9200 - val_loss: 0.6761 - val_accuracy: 0.7500\n",
      "Epoch 59/100\n",
      "2/2 [==============================] - ETA: 0s - loss: 0.3266 - accuracy: 0.9062\n",
      "Epoch 59: val_loss did not improve from 0.48840\n",
      "2/2 [==============================] - 3s 2s/step - loss: 0.3266 - accuracy: 0.9062 - val_loss: 0.6043 - val_accuracy: 0.7500\n",
      "Epoch 60/100\n"
     ]
    },
    {
     "name": "stdout",
     "output_type": "stream",
     "text": [
      "2/2 [==============================] - ETA: 0s - loss: 0.4376 - accuracy: 0.8125\n",
      "Epoch 60: val_loss did not improve from 0.48840\n",
      "2/2 [==============================] - 3s 2s/step - loss: 0.4376 - accuracy: 0.8125 - val_loss: 0.8095 - val_accuracy: 0.7500\n",
      "Epoch 61/100\n",
      "2/2 [==============================] - ETA: 0s - loss: 0.3226 - accuracy: 0.8800\n",
      "Epoch 61: val_loss did not improve from 0.48840\n",
      "2/2 [==============================] - 3s 2s/step - loss: 0.3226 - accuracy: 0.8800 - val_loss: 0.8165 - val_accuracy: 0.6875\n",
      "Epoch 62/100\n",
      "2/2 [==============================] - ETA: 0s - loss: 0.3692 - accuracy: 0.7200\n",
      "Epoch 62: val_loss did not improve from 0.48840\n",
      "2/2 [==============================] - 3s 2s/step - loss: 0.3692 - accuracy: 0.7200 - val_loss: 0.6936 - val_accuracy: 0.6875\n",
      "Epoch 63/100\n",
      "2/2 [==============================] - ETA: 0s - loss: 0.2973 - accuracy: 0.9062\n",
      "Epoch 63: val_loss did not improve from 0.48840\n",
      "2/2 [==============================] - 3s 2s/step - loss: 0.2973 - accuracy: 0.9062 - val_loss: 0.7576 - val_accuracy: 0.8125\n",
      "Epoch 64/100\n",
      "2/2 [==============================] - ETA: 0s - loss: 0.2825 - accuracy: 0.9600\n",
      "Epoch 64: val_loss did not improve from 0.48840\n",
      "2/2 [==============================] - 3s 2s/step - loss: 0.2825 - accuracy: 0.9600 - val_loss: 0.7457 - val_accuracy: 0.8750\n",
      "Epoch 65/100\n",
      "2/2 [==============================] - ETA: 0s - loss: 0.3796 - accuracy: 0.8800\n",
      "Epoch 65: val_loss did not improve from 0.48840\n",
      "2/2 [==============================] - 3s 2s/step - loss: 0.3796 - accuracy: 0.8800 - val_loss: 0.6732 - val_accuracy: 0.7500\n",
      "Epoch 66/100\n",
      "2/2 [==============================] - ETA: 0s - loss: 0.3621 - accuracy: 0.8750\n",
      "Epoch 66: val_loss did not improve from 0.48840\n",
      "2/2 [==============================] - 3s 2s/step - loss: 0.3621 - accuracy: 0.8750 - val_loss: 0.9845 - val_accuracy: 0.6250\n",
      "Epoch 67/100\n",
      "2/2 [==============================] - ETA: 0s - loss: 0.2514 - accuracy: 0.9688\n",
      "Epoch 67: val_loss did not improve from 0.48840\n",
      "2/2 [==============================] - 3s 2s/step - loss: 0.2514 - accuracy: 0.9688 - val_loss: 0.6074 - val_accuracy: 0.6875\n",
      "Epoch 68/100\n",
      "2/2 [==============================] - ETA: 0s - loss: 0.2823 - accuracy: 0.9062Restoring model weights from the end of the best epoch: 48.\n",
      "\n",
      "Epoch 68: val_loss did not improve from 0.48840\n",
      "2/2 [==============================] - 3s 2s/step - loss: 0.2823 - accuracy: 0.9062 - val_loss: 0.9961 - val_accuracy: 0.5000\n",
      "Epoch 68: early stopping\n"
     ]
    }
   ],
   "source": [
    "model = DeepNNClassificationModel()\n",
    "\n",
    "history = model.fit(train_X, train_y)"
   ]
  },
  {
   "cell_type": "markdown",
   "metadata": {},
   "source": [
    "Plot the model"
   ]
  },
  {
   "cell_type": "code",
   "execution_count": 35,
   "metadata": {},
   "outputs": [
    {
     "data": {
      "image/png": "[encoded data removed]",
      "text/plain": [
       "<Figure size 432x288 with 1 Axes>"
      ]
     },
     "metadata": {
      "needs_background": "light"
     },
     "output_type": "display_data"
    }
   ],
   "source": [
    "plt.plot(history.history[\"accuracy\"])\n",
    "plt.plot(history.history['val_accuracy'])\n",
    "plt.plot(history.history['loss'])\n",
    "plt.plot(history.history['val_loss'])\n",
    "plt.title(\"model accuracy\")\n",
    "plt.ylabel(\"Accuracy\")\n",
    "plt.xlabel(\"Epoch\")\n",
    "plt.legend([\"Accuracy\",\"Validation Accuracy\",\"Loss\",\"Val Loss\"])\n",
    "plt.show()"
   ]
  },
  {
   "cell_type": "code",
   "execution_count": 36,
   "metadata": {},
   "outputs": [],
   "source": [
    "# tests = []\n",
    "\n",
    "# for input_im in test['img']:\n",
    "#     input_im = input_im.astype(dtype=\"uint8\")\n",
    "#     input_im = cv2.resize(input_im, (224, 224), interpolation = cv2.INTER_LINEAR)\n",
    "# #     input_im = input_im / 255.\n",
    "# #     input_im = input_im.reshape(1,224,224,3) \n",
    "#     tests.append(input_im)\n",
    "\n",
    "# tests = np.array(tests)\n",
    "\n",
    "results = model.predict(test_X)"
   ]
  },
  {
   "cell_type": "code",
   "execution_count": 37,
   "metadata": {},
   "outputs": [],
   "source": [
    "submission = pd.read_csv(\"submission.csv\")\n",
    "submission['class'] = results"
   ]
  },
  {
   "cell_type": "code",
   "execution_count": 38,
   "metadata": {},
   "outputs": [],
   "source": [
    "submission.to_csv(\"submission.csv\", index=False)"
   ]
  },
  {
   "cell_type": "markdown",
   "metadata": {
    "papermill": {
     "duration": 0.100212,
     "end_time": "2021-03-08T07:59:04.516059",
     "exception": false,
     "start_time": "2021-03-08T07:59:04.415847",
     "status": "completed"
    },
    "tags": []
   },
   "source": [
    "# 1. Feature Representations\n",
    "## 1.0. Example: Identify feature extractor\n",
    "Our example feature extractor doesn't actually do anything... It just returns the input:\n",
    "$$\n",
    "\\forall x : f(x) = x.\n",
    "$$\n",
    "\n",
    "It does make for a good placeholder and baseclass ;)."
   ]
  },
  {
   "cell_type": "code",
   "execution_count": null,
   "metadata": {
    "papermill": {
     "duration": 0.108781,
     "end_time": "2021-03-08T07:59:04.725071",
     "exception": false,
     "start_time": "2021-03-08T07:59:04.61629",
     "status": "completed"
    },
    "tags": []
   },
   "outputs": [],
   "source": [
    "class IdentityFeatureExtractor:\n",
    "    \"\"\"A simple function that returns the input\"\"\"\n",
    "    \n",
    "    def transform(self, X):\n",
    "        return X\n",
    "    \n",
    "    def __call__(self, X):\n",
    "        return self.transform(X)"
   ]
  },
  {
   "cell_type": "markdown",
   "metadata": {
    "papermill": {
     "duration": 0.134288,
     "end_time": "2021-03-08T07:59:04.959911",
     "exception": false,
     "start_time": "2021-03-08T07:59:04.825623",
     "status": "completed"
    },
    "tags": []
   },
   "source": [
    "## 1.1. Baseline 1: HOG feature extractor/Scale Invariant Feature Transform\n",
    "Possible improvements:\n",
    "- grid search to study the best parameterz on a validation set\n",
    "- preprocessing (normalization, ecc.)\n",
    "\n",
    "For HOG/SIFT explanation link on the assignment pdf.\n",
    "\n",
    "HOG performances with default parameters : 0.84581 (with GaussianBlur)\n",
    "SIFT performances with default parameters : 0.69913"
   ]
  },
  {
   "cell_type": "code",
   "execution_count": null,
   "metadata": {
    "papermill": {
     "duration": 0.110122,
     "end_time": "2021-03-08T07:59:05.171171",
     "exception": false,
     "start_time": "2021-03-08T07:59:05.061049",
     "status": "completed"
    },
    "tags": []
   },
   "outputs": [],
   "source": [
    "class HOGFeatureExtractor(IdentityFeatureExtractor):\n",
    "    \n",
    "    def __init__(self, blockSize = (40,40), blockStride = (20,20), cellSize = (20,20), nbins = 18, derivAperture = 1\n",
    ", winSigma = -1, histogramNormType = 0, L2HysThreshold = 0.2, gammaCorrection = 1, nlevels = 64, signedGradients = True):\n",
    "        self.blockSize = blockSize\n",
    "        self.blockStride = blockStride\n",
    "        self.cellSize = cellSize\n",
    "        self.nbins = nbins\n",
    "        self.derivAperture = derivAperture\n",
    "        self.winSigma = winSigma\n",
    "        self.histogramNormType = histogramNormType \n",
    "        self.L2HysThreshold = L2HysThreshold\n",
    "        self.gammaCorrection = gammaCorrection\n",
    "        self.nlevels = nlevels\n",
    "        self.signedGradients = signedGradients         \n",
    "        \n",
    "    def transform(self, X):\n",
    "        X = X.astype(np.uint8)\n",
    "        hog = cv2.HOGDescriptor((X.shape[1], X.shape[2]), self.blockSize, self.blockStride, self.cellSize, self.nbins,\n",
    "                                self.derivAperture, self.winSigma, self.histogramNormType,self.L2HysThreshold,\n",
    "                                self.gammaCorrection, self.nlevels, self.signedGradients)\n",
    "        descriptors = []\n",
    "        resultimage = np.zeros((FACE_SIZE[0], FACE_SIZE[1]))\n",
    "\n",
    "        for x in X:\n",
    "            img = cv2.GaussianBlur(x, (5,5), 0)\n",
    "            descriptors.append(hog.compute(img))\n",
    "\n",
    "        descriptors = np.array(descriptors)\n",
    "        descriptors = np.resize(descriptors, (descriptors.shape[0], descriptors.shape[1]))\n",
    "        return descriptors   "
   ]
  },
  {
   "cell_type": "code",
   "execution_count": null,
   "metadata": {},
   "outputs": [],
   "source": [
    "class SIFTFeatureExtractor(IdentityFeatureExtractor):\n",
    "    \n",
    "    def __init__(self, nfeatures=200, nOctaveLayers=3, contrastThreshold=0.04, edgeThreshold=10, sigma=1.6, n_clusters = 200):\n",
    "        self.nfeatures = nfeatures\n",
    "        self.nOctaveLayers = nOctaveLayers\n",
    "        self.contrastThreshold = contrastThreshold\n",
    "        self.edgeThreshold = edgeThreshold \n",
    "        self.sigma = sigma\n",
    "        self.flag = 1 # 1 for train set, 0 for test \n",
    "        self.n_clusters = n_clusters\n",
    "        self.bow = []\n",
    "    \n",
    "    def extract_sift_features(self, list_image):\n",
    "\n",
    "        image_descriptors = []\n",
    "        sift = cv2.SIFT_create()\n",
    "        for image in list_image:        \n",
    "            _, descriptor = sift.detectAndCompute(image, None)\n",
    "            image_descriptors.append(descriptor)\n",
    "\n",
    "        return image_descriptors\n",
    "\n",
    "    def kmean_bow(self, all_descriptors, n_clusters):\n",
    "        bow_dict = []\n",
    "\n",
    "        kmeans = KMeans(n_clusters = n_clusters)\n",
    "        kmeans.fit(all_descriptors)\n",
    "\n",
    "        bow_dict = kmeans.cluster_centers_\n",
    "        self.bow = bow_dict\n",
    "        \n",
    "        return bow_dict\n",
    "\n",
    "    def create_feature_bow(self, image_descriptors, BoW, n_clusters):\n",
    "\n",
    "        X_features = []\n",
    "\n",
    "        for i in range(len(image_descriptors)):\n",
    "            features = np.zeros(n_clusters)\n",
    "\n",
    "            if image_descriptors[i] is not None:\n",
    "                distance = cdist(image_descriptors[i], BoW)\n",
    "\n",
    "                argmin = np.argmin(distance, axis = 1)\n",
    "\n",
    "                for j in argmin:\n",
    "                    features[j] += 1\n",
    "            X_features.append(features)\n",
    "\n",
    "        return X_features\n",
    "\n",
    "        \n",
    "    def transform(self, X):  \n",
    "        \n",
    "        X = X.astype(np.uint8)\n",
    "        \n",
    "        image_descriptors = self.extract_sift_features(X)\n",
    "        \n",
    "        # train mode\n",
    "        if self.flag == 1: \n",
    "            all_descriptors = []\n",
    "            for descriptor in image_descriptors:\n",
    "                if descriptor is not None:\n",
    "                    for des in descriptor:\n",
    "                        all_descriptors.append(des)\n",
    "\n",
    "            BoW = self.kmean_bow(all_descriptors, self.n_clusters)\n",
    "            \n",
    "            self.flag = 0 #switch to test mode\n",
    "            \n",
    "            return self.create_feature_bow(image_descriptors, BoW, self.n_clusters)\n",
    "        \n",
    "        # test mode\n",
    "        elif self.flag == 0:\n",
    "            return self.create_feature_bow(image_descriptors, self.bow, self.n_clusters)\n"
   ]
  },
  {
   "cell_type": "markdown",
   "metadata": {
    "papermill": {
     "duration": 0.100377,
     "end_time": "2021-03-08T07:59:05.372401",
     "exception": false,
     "start_time": "2021-03-08T07:59:05.272024",
     "status": "completed"
    },
    "tags": []
   },
   "source": [
    "### 1.1.1. t-SNE Plots"
   ]
  },
  {
   "cell_type": "code",
   "execution_count": null,
   "metadata": {
    "papermill": {
     "duration": 0.100308,
     "end_time": "2021-03-08T07:59:05.57403",
     "exception": false,
     "start_time": "2021-03-08T07:59:05.473722",
     "status": "completed"
    },
    "tags": []
   },
   "outputs": [],
   "source": [
    "from sklearn.manifold import TSNE\n",
    "import seaborn as sns\n",
    "\n",
    "hog = HOGFeatureExtractor()\n",
    "\n",
    "X_embedded = TSNE().fit_transform(hog.transform(train_X))\n",
    "\n",
    "plt.ylim([-200, 200])\n",
    "plt.xlim([-200,200])\n",
    "sns.scatterplot(x=X_embedded[:,0], y=X_embedded[:,1], hue=train_y, legend='full')"
   ]
  },
  {
   "cell_type": "markdown",
   "metadata": {
    "papermill": {
     "duration": 0.100596,
     "end_time": "2021-03-08T07:59:05.775686",
     "exception": false,
     "start_time": "2021-03-08T07:59:05.67509",
     "status": "completed"
    },
    "tags": []
   },
   "source": [
    "### 1.1.2. Discussion\n",
    "Class 1 and 2 are well separated. Difficult discrimination between class 0-1 and 0-2."
   ]
  },
  {
   "cell_type": "markdown",
   "metadata": {
    "papermill": {
     "duration": 0.101426,
     "end_time": "2021-03-08T07:59:05.978236",
     "exception": false,
     "start_time": "2021-03-08T07:59:05.87681",
     "status": "completed"
    },
    "tags": []
   },
   "source": [
    "## 1.2. Baseline 2: PCA feature extractor\n",
    "\n",
    "Number of features can be determined by n_components (which depends on the number of images in the training data) or the percentage of variance to be retained.\n",
    "\n",
    "Not many parameters can be improved.\n",
    "\n",
    "PCA performances with default parameters : 0.77843"
   ]
  },
  {
   "cell_type": "code",
   "execution_count": null,
   "metadata": {
    "papermill": {
     "duration": 0.111032,
     "end_time": "2021-03-08T07:59:06.191215",
     "exception": false,
     "start_time": "2021-03-08T07:59:06.080183",
     "status": "completed"
    },
    "tags": []
   },
   "outputs": [],
   "source": [
    "class PCAFeatureExtractor(IdentityFeatureExtractor):\n",
    "    \n",
    "    def __init__(self, train_X, n_components = None, var = 0.95):\n",
    "        train_X = train_X.astype(np.uint8)\n",
    "        gray_train_X = []\n",
    "        \n",
    "        #code to ensure grayscale conversion\n",
    "        if len(train_X) > 3 and train_X.shape[3] > 1:\n",
    "            for x in train_X:\n",
    "                gray_train_X.append(cv2.cvtColor(x, cv2.COLOR_BGR2GRAY))\n",
    "                \n",
    "        gray_train_X = np.array(gray_train_X)\n",
    "        \n",
    "        self.n_components = n_components\n",
    "        self.variance = var\n",
    "        #mean image computation\n",
    "        mean_image = gray_train_X.mean(axis=0)\n",
    "        #centered_data computation\n",
    "        centered_train = gray_train_X - mean_image\n",
    "        \n",
    "        m = train_X.shape[0]\n",
    "        d = FACE_SIZE[0] * FACE_SIZE[1]\n",
    "        images_matrix = np.reshape(centered_train, (m, d))\n",
    "        if n_components == None:\n",
    "            self.pca = PCA(n_components=var, svd_solver=\"full\", whiten=True).fit(images_matrix)\n",
    "        else:\n",
    "            self.pca = PCA(n_components=n_components, svd_solver=\"randomized\", whiten=True).fit(images_matrix)\n",
    "            \n",
    "        \n",
    "    def transform(self, X):\n",
    "        X = X.astype(np.uint8)        \n",
    "        gray_X = []\n",
    "        \n",
    "        #code to ensure grayscale conversion\n",
    "        if len(X.shape) == 4:\n",
    "            m = X.shape[0]\n",
    "            if X.shape[3] > 1:\n",
    "                for x in X:\n",
    "                    gray_X.append(cv2.cvtColor(x, cv2.COLOR_BGR2GRAY))\n",
    "            else:\n",
    "                gray_X = np.array(X)\n",
    "            \n",
    "            gray_X = np.array(gray_X)\n",
    "        else:\n",
    "            if len(X.shape) > 2 and X.shape[2] > 1:\n",
    "                 gray_X = cv2.cvtColor(X, cv2.COLOR_BGR2GRAY)\n",
    "            m = 1\n",
    "        d = FACE_SIZE[0] * FACE_SIZE[1]\n",
    "        gray_X = np.reshape(gray_X, (m, d))\n",
    "        return self.pca.transform(gray_X)\n",
    "        \n",
    "    def inverse_transform(self, X):\n",
    "        data = self.pca.inverse_transform(X)\n",
    "        n_images = int(data.size / (FACE_SIZE[0]*FACE_SIZE[1]))\n",
    "        \n",
    "        data = np.array(data, dtype=np.uint8)\n",
    "        \n",
    "        if n_images > 1:\n",
    "            return np.reshape(data, (n_images, FACE_SIZE[0], FACE_SIZE[1]))\n",
    "        return np.reshape(data, (FACE_SIZE[0], FACE_SIZE[1]))"
   ]
  },
  {
   "cell_type": "markdown",
   "metadata": {
    "papermill": {
     "duration": 0.100881,
     "end_time": "2021-03-08T07:59:06.392861",
     "exception": false,
     "start_time": "2021-03-08T07:59:06.29198",
     "status": "completed"
    },
    "tags": []
   },
   "source": [
    "### 1.2.1. Eigenface Plots"
   ]
  },
  {
   "cell_type": "code",
   "execution_count": null,
   "metadata": {},
   "outputs": [],
   "source": [
    "image = train_X[9]\n",
    "\n",
    "max_eigenvectors = train_X.shape[0]\n",
    "\n",
    "used_eigenvalues = np.linspace(10, max_eigenvectors, int(max_eigenvectors/10), dtype=int)[::-1]\n",
    "\n",
    "eigenfaces_images = np.zeros((int(max_eigenvectors/10), FACE_SIZE[0], FACE_SIZE[1], 3))\n",
    "\n",
    "for components in used_eigenvalues:\n",
    "    pca = PCAFeatureExtractor(train_X, components)\n",
    "    reduced_data = pca.transform(image)\n",
    "    reconstructed_data = pca.inverse_transform(reduced_data)\n",
    "    idx = int((max_eigenvectors - components) / 10)\n",
    "    eigenfaces_images[idx] = cv2.cvtColor(reconstructed_data, cv2.COLOR_GRAY2RGB)\n",
    "    \n",
    "plot_image_sequence(eigenfaces_images, n=eigenfaces_images.shape[0], imgs_per_row=10)  \n",
    "    "
   ]
  },
  {
   "cell_type": "markdown",
   "metadata": {
    "papermill": {
     "duration": 0.101263,
     "end_time": "2021-03-08T07:59:06.797448",
     "exception": false,
     "start_time": "2021-03-08T07:59:06.696185",
     "status": "completed"
    },
    "tags": []
   },
   "source": [
    "### 1.2.2. Feature Space Plots"
   ]
  },
  {
   "cell_type": "code",
   "execution_count": null,
   "metadata": {
    "papermill": {
     "duration": 0.101801,
     "end_time": "2021-03-08T07:59:07.000598",
     "exception": false,
     "start_time": "2021-03-08T07:59:06.898797",
     "status": "completed"
    },
    "tags": []
   },
   "outputs": [],
   "source": [
    "pca = PCAFeatureExtractor(train_X, 2)\n",
    "\n",
    "reduced_data = pca.transform(train_X)\n",
    "\n",
    "plt.plot(reduced_data[:,0][train_y == 0], reduced_data[:,1][train_y == 0], 'o', label=\"False\")\n",
    "plt.plot(reduced_data[:,0][train_y == 1], reduced_data[:,1][train_y == 1], 'o', label=\"Jesse Eisemberg\")\n",
    "plt.plot(reduced_data[:,0][train_y == 2], reduced_data[:,1][train_y == 2], 'o', label=\"Mila Kunis\")\n",
    "plt.title(\"Projecting the images in the 2D eigenspace\")\n",
    "plt.legend()\n",
    "plt.figure()"
   ]
  },
  {
   "cell_type": "markdown",
   "metadata": {
    "papermill": {
     "duration": 0.102099,
     "end_time": "2021-03-08T07:59:07.204783",
     "exception": false,
     "start_time": "2021-03-08T07:59:07.102684",
     "status": "completed"
    },
    "tags": []
   },
   "source": [
    "### 1.2.3. Discussion\n",
    "\n",
    "Again class 1 and 2 are well separated, while discrimination is difficult between class 0-1 and 0-2."
   ]
  },
  {
   "cell_type": "markdown",
   "metadata": {
    "papermill": {
     "duration": 0.10088,
     "end_time": "2021-03-08T07:59:07.406787",
     "exception": false,
     "start_time": "2021-03-08T07:59:07.305907",
     "status": "completed"
    },
    "tags": []
   },
   "source": [
    "# 2. Evaluation Metrics\n",
    "## 2.0. Example: Accuracy\n",
    "As example metric we take the accuracy. Informally, accuracy is the proportion of correct predictions over the total amount of predictions. It is used a lot in classification but it certainly has its disadvantages..."
   ]
  },
  {
   "cell_type": "code",
   "execution_count": null,
   "metadata": {
    "papermill": {
     "duration": 1.180116,
     "end_time": "2021-03-08T07:59:08.688561",
     "exception": false,
     "start_time": "2021-03-08T07:59:07.508445",
     "status": "completed"
    },
    "tags": []
   },
   "outputs": [],
   "source": [
    "from sklearn.metrics import accuracy_score"
   ]
  },
  {
   "cell_type": "markdown",
   "metadata": {
    "papermill": {
     "duration": 0.103749,
     "end_time": "2021-03-08T07:59:08.894358",
     "exception": false,
     "start_time": "2021-03-08T07:59:08.790609",
     "status": "completed"
    },
    "tags": []
   },
   "source": [
    "# 3. Classifiers\n",
    "## 3.0. Example: The *'not so smart'* classifier\n",
    "This random classifier is not very complicated. It makes predictions at random, based on the distribution obseved in the training set. **It thus assumes** that the class labels of the test set will be distributed similarly to the training set."
   ]
  },
  {
   "cell_type": "code",
   "execution_count": null,
   "metadata": {
    "papermill": {
     "duration": 0.113194,
     "end_time": "2021-03-08T07:59:09.110222",
     "exception": false,
     "start_time": "2021-03-08T07:59:08.997028",
     "status": "completed"
    },
    "tags": []
   },
   "outputs": [],
   "source": [
    "class RandomClassificationModel:\n",
    "    \"\"\"Random classifier, draws a random sample based on class distribution observed \n",
    "    during training.\"\"\"\n",
    "    \n",
    "    def fit(self, X, y):\n",
    "        \"\"\"Adjusts the class ratio instance variable to the one observed in y. \n",
    "\n",
    "        Parameters\n",
    "        ----------\n",
    "        X : tensor\n",
    "            Training set\n",
    "        y : array\n",
    "            Training set labels\n",
    "\n",
    "        Returns\n",
    "        -------\n",
    "        self : RandomClassificationModel\n",
    "        \"\"\" \n",
    "        \n",
    "        self.classes, self.class_ratio = np.unique(y, return_counts=True)\n",
    "        self.class_ratio = self.class_ratio / self.class_ratio.sum()\n",
    "        return self\n",
    "        \n",
    "    def predict(self, X):\n",
    "        \"\"\"Samples labels for the input data. \n",
    "\n",
    "        Parameters\n",
    "        ----------\n",
    "        X : tensor\n",
    "            dataset\n",
    "            \n",
    "        Returns\n",
    "        -------\n",
    "        y_star : array\n",
    "            'Predicted' labels\n",
    "        \"\"\"\n",
    "\n",
    "        np.random.seed(0)\n",
    "        return np.random.choice(self.classes, size = X.shape[0], p=self.class_ratio)\n",
    "    \n",
    "    def __call__(self, X):\n",
    "        return self.predict(X)\n",
    "    "
   ]
  },
  {
   "cell_type": "markdown",
   "metadata": {},
   "source": [
    "## 3.1. Baseline 1: SVM classifier\n",
    "Two binary classifiers (usually work better for SVM).\n",
    "\n",
    "Randomized search for the estimation of the best hyperparameters.\n",
    "\n",
    "RBF kernel to obtain non-linear decision boundaries."
   ]
  },
  {
   "cell_type": "code",
   "execution_count": null,
   "metadata": {},
   "outputs": [],
   "source": [
    "class SVMClassificationModel:\n",
    "    \n",
    "    def fit(self, X, y):\n",
    "        #Jesse classifier\n",
    "        Y_jesse = np.array(y)\n",
    "        Y_jesse[Y_jesse == 2] = 0\n",
    "        \n",
    "        param_grid = {\n",
    "            \"C\": loguniform(1e3, 1e5),\n",
    "            \"gamma\": loguniform(1e-4, 1e-1),\n",
    "        }\n",
    "        clf_jesse = RandomizedSearchCV(\n",
    "            SVC(kernel=\"rbf\", class_weight=\"balanced\", random_state=9), param_grid, n_iter=1000, cv=20, random_state=9\n",
    "        )\n",
    "        clf_jesse = clf_jesse.fit(X, Y_jesse)\n",
    "        self.C_jesse = clf_jesse.best_estimator_.C\n",
    "        self.gamma_jesse = clf_jesse.best_estimator_.gamma\n",
    "        self.clf_jesse = clf_jesse\n",
    "        \n",
    "        #Mila classifier\n",
    "        Y_mila = np.array(y)\n",
    "        Y_mila[Y_mila == 1] = 0\n",
    "        \n",
    "        clf_mila = RandomizedSearchCV(\n",
    "            SVC(kernel=\"rbf\", class_weight=\"balanced\", random_state=9), param_grid, n_iter=1000, cv=10, random_state=9\n",
    "        )\n",
    "        clf_mila = clf_mila.fit(X, Y_mila)\n",
    "        self.C_mila = clf_mila.best_estimator_.C\n",
    "        self.gamma_mila = clf_mila.best_estimator_.gamma\n",
    "        self.clf_mila = clf_mila\n",
    "        \n",
    "    def predict(self, X):\n",
    "        \n",
    "        y_jesse = self.clf_jesse.predict(X)\n",
    "        y_mila = self.clf_mila.predict(X)\n",
    "        \n",
    "        y = np.zeros(y_jesse.size, dtype=int)\n",
    "        \n",
    "        y[np.logical_and(y_jesse == 1, y_mila == 0)] = 1\n",
    "        y[np.logical_and(y_jesse == 0, y_mila == 2)] = 2\n",
    "        \n",
    "        #random choice when both Mila and Jesse are predicted\n",
    "        y[np.logical_and(y_jesse == 1, y_mila == 2)] = np.random.randint(0,2)\n",
    "        for i in range(y.size):\n",
    "            if y_jesse[i] == 1 and y_mila[i] == 2:\n",
    "                print(\"ERROR: both Jesse and Mila labels are predicted\")\n",
    "                \n",
    "        y_with_four_labels = np.array(y, dtype=int)\n",
    "        y_with_four_labels[np.logical_and(y_jesse == 1, y_mila == 2)] = 3\n",
    "        \n",
    "        return y, y_with_four_labels\n",
    "    \n",
    "    def __call__(self, X):\n",
    "        return self.predict(X)"
   ]
  },
  {
   "cell_type": "markdown",
   "metadata": {
    "papermill": {
     "duration": 0.101099,
     "end_time": "2021-03-08T07:59:09.31402",
     "exception": false,
     "start_time": "2021-03-08T07:59:09.212921",
     "status": "completed"
    },
    "tags": []
   },
   "source": [
    "## 3.2. Baseline 2: Voting among SVM classifiers\n",
    "\n",
    "Voting among the three classifiers that use HOG, SIFT and PCA features.\n",
    "\n",
    "Surprisingly, it does not work well."
   ]
  },
  {
   "cell_type": "code",
   "execution_count": null,
   "metadata": {
    "papermill": {
     "duration": 0.108542,
     "end_time": "2021-03-08T07:59:09.525054",
     "exception": false,
     "start_time": "2021-03-08T07:59:09.416512",
     "status": "completed"
    },
    "tags": []
   },
   "outputs": [],
   "source": [
    "class VotingClassificationModel:\n",
    "        \n",
    "    def fit(self, X, y):\n",
    "        hog_features = X[0]\n",
    "        sift_features = X[1]\n",
    "        pca_features = X[2]\n",
    "        \n",
    "        self.hog_classifier = SVMClassificationModel()\n",
    "        self.hog_classifier.fit(hog_features, y)\n",
    "        \n",
    "        self.sift_classifier = SVMClassificationModel()\n",
    "        self.sift_classifier.fit(sift_features, y)\n",
    "        \n",
    "        self.pca_classifier = SVMClassificationModel()\n",
    "        self.pca_classifier.fit(pca_features, y)\n",
    "        \n",
    "    def predict(self, X):\n",
    "        hog_features = X[0]\n",
    "        sift_features = X[1]\n",
    "        pca_features = X[2]\n",
    "        y_hog, y_four_hog = self.hog_classifier.predict(hog_features)\n",
    "        y_sift, y_four_sift = y_mila_sift = self.sift_classifier.predict(sift_features)\n",
    "        y_pca, y_four_pca = self.pca_classifier.predict(pca_features)\n",
    "        \n",
    "        self.c0 = self.c1 = self.c2 = self.c3 = self.c4 = 0\n",
    "        y_final = -1*np.zeros((y_hog.size), dtype=int)\n",
    "        \n",
    "        for i in range(y_hog.size):\n",
    "            values = np.array([y_four_hog[i], y_four_sift[i], y_four_pca[i]])\n",
    "            \n",
    "            n_zeros = np.where(values == 0, 1, 0).sum()\n",
    "            n_ones = np.where(values == 1, 1, 0).sum()\n",
    "            n_twos = np.where(values == 2, 1, 0).sum()\n",
    "            n_threes = np.where(values == 3, 1, 0).sum()\n",
    "            \n",
    "            if n_zeros >= 2:\n",
    "                y_final[i] = 0\n",
    "            elif n_ones >= 2:\n",
    "                y_final[i] = 1\n",
    "            elif n_twos >= 2:\n",
    "                y_final[i] = 2\n",
    "            elif n_threes >= 2:\n",
    "                self.c0 += 1\n",
    "                y_final[i] = y_hog[i]\n",
    "            elif n_ones == 1 and n_twos == 1 and n_zeros == 1:\n",
    "                self.c1 += 1\n",
    "                y_final[i] = y_hog[i]\n",
    "            elif n_ones == 1 and n_zeros == 1 and n_threes == 1:\n",
    "                self.c2 += 1\n",
    "                y_final[i] = y_hog[i]\n",
    "            elif n_zeros == 1 and n_twos == 1 and n_threes == 1:\n",
    "                self.c3 += 1\n",
    "                y_final[i] = y_hog[i]\n",
    "            elif n_ones == 1 and n_twos == 1 and n_threes == 1:\n",
    "                self.c4 += 1\n",
    "                y_final[i] = y_hog[i]\n",
    "                \n",
    "        return y_final\n",
    "    def __call__(self, X):\n",
    "        y = self.predict(X)\n",
    "        print(self.c0)\n",
    "        print(self.c1)\n",
    "        print(self.c2)\n",
    "        print(self.c3)\n",
    "        print(self.c4)\n",
    "        return y"
   ]
  },
  {
   "cell_type": "markdown",
   "metadata": {},
   "source": [
    "## 3.2. Baseline: My favorite classifer\n",
    "Up to now, the best performing classifier is the SVM with HOG features.\n",
    "\n",
    "A possible improvement can be the VGG ImageNet with Data Augmentation. As you can read on https://arxiv.org/pdf/1804.06655.pdf, this NN approach should be the best performing."
   ]
  },
  {
   "cell_type": "markdown",
   "metadata": {
    "papermill": {
     "duration": 0.102942,
     "end_time": "2021-03-08T07:59:09.730342",
     "exception": false,
     "start_time": "2021-03-08T07:59:09.6274",
     "status": "completed"
    },
    "tags": []
   },
   "source": [
    "# 4. Experiments\n",
    "<div class=\"alert alert-block alert-info\"> <b>NOTE:</b> Do <i>NOT</i> use this section to keep track of every little change you make in your code! Instead, highlight the most important findings and the major (best) pipelines that you've discovered.  \n",
    "</div>\n",
    "<br>\n",
    "\n",
    "## 4.0. Example: basic pipeline\n",
    "The basic pipeline takes any input and samples a label based on the class label distribution of the training set. As expected the performance is very poor, predicting approximately 1/4 correctly on the training set. There is a lot of room for improvement but this is left to you ;). "
   ]
  },
  {
   "cell_type": "code",
   "execution_count": null,
   "metadata": {
    "papermill": {
     "duration": 0.430319,
     "end_time": "2021-03-08T07:59:10.263691",
     "exception": false,
     "start_time": "2021-03-08T07:59:09.833372",
     "status": "completed"
    },
    "tags": []
   },
   "outputs": [],
   "source": [
    "feature_extractor = IdentityFeatureExtractor() \n",
    "classifier = RandomClassificationModel()\n",
    "\n",
    "# train the model on the features\n",
    "classifier.fit(feature_extractor(train_X), train_y)\n",
    "\n",
    "# model/final pipeline\n",
    "model = lambda X: classifier(feature_extractor(X))"
   ]
  },
  {
   "cell_type": "code",
   "execution_count": null,
   "metadata": {
    "papermill": {
     "duration": 0.114717,
     "end_time": "2021-03-08T07:59:10.480473",
     "exception": false,
     "start_time": "2021-03-08T07:59:10.365756",
     "status": "completed"
    },
    "tags": []
   },
   "outputs": [],
   "source": [
    "# evaluate performance of the model on the training set\n",
    "train_y_star = model(train_X)\n",
    "\n",
    "\"The performance on the training set is {:.2f}. This however, does not tell us much about the actual performance (generalisability).\".format(\n",
    "    accuracy_score(train_y, train_y_star))"
   ]
  },
  {
   "cell_type": "code",
   "execution_count": null,
   "metadata": {
    "papermill": {
     "duration": 0.111828,
     "end_time": "2021-03-08T07:59:10.696438",
     "exception": false,
     "start_time": "2021-03-08T07:59:10.58461",
     "status": "completed"
    },
    "tags": []
   },
   "outputs": [],
   "source": [
    "# predict the labels for the test set \n",
    "test_y_star = model(test_X)"
   ]
  },
  {
   "cell_type": "markdown",
   "metadata": {},
   "source": [
    "## 4.1. SVM model: basic pipeline"
   ]
  },
  {
   "cell_type": "markdown",
   "metadata": {},
   "source": [
    "### 4.1.1. SVM model: HOGFeatureDescriptor"
   ]
  },
  {
   "cell_type": "code",
   "execution_count": null,
   "metadata": {},
   "outputs": [],
   "source": [
    "feature_extractor = HOGFeatureExtractor() \n",
    "classifier_hog = SVMClassificationModel()\n",
    "\n",
    "# train the model on the features\n",
    "classifier_hog.fit(feature_extractor(train_X), train_y)\n",
    "\n",
    "# model/final pipeline\n",
    "model_hog = lambda X: classifier_hog(feature_extractor(X))"
   ]
  },
  {
   "cell_type": "code",
   "execution_count": null,
   "metadata": {},
   "outputs": [],
   "source": [
    "# evaluate performance of the model on the training set\n",
    "train_y_hog, _ = model_hog(train_X)\n",
    "\n",
    "\"The performance on the training set is {:.2f}. This however, does not tell us much about the actual performance (generalisability).\".format(\n",
    "    accuracy_score(train_y, train_y_hog))"
   ]
  },
  {
   "cell_type": "code",
   "execution_count": null,
   "metadata": {},
   "outputs": [],
   "source": [
    "# predict the labels for the test set \n",
    "test_y_hog, _ = model_hog(test_X)"
   ]
  },
  {
   "cell_type": "markdown",
   "metadata": {},
   "source": [
    "### 4.1.2. SVM model: SIFTFeatureDescriptor"
   ]
  },
  {
   "cell_type": "code",
   "execution_count": null,
   "metadata": {},
   "outputs": [],
   "source": [
    "feature_extractor = SIFTFeatureExtractor() \n",
    "classifier_sift = SVMClassificationModel()\n",
    "\n",
    "# train the model on the features\n",
    "classifier_sift.fit(feature_extractor(train_X), train_y)\n",
    "\n",
    "# model/final pipeline\n",
    "model_sift = lambda X: classifier_sift(feature_extractor(X))"
   ]
  },
  {
   "cell_type": "code",
   "execution_count": null,
   "metadata": {},
   "outputs": [],
   "source": [
    "# evaluate performance of the model on the training set\n",
    "train_y_sift, _ = model_sift(train_X)\n",
    "\n",
    "\"The performance on the training set is {:.2f}. This however, does not tell us much about the actual performance (generalisability).\".format(\n",
    "    accuracy_score(train_y, train_y_sift))"
   ]
  },
  {
   "cell_type": "code",
   "execution_count": null,
   "metadata": {},
   "outputs": [],
   "source": [
    "# predict the labels for the test set \n",
    "test_y_sift, _ = model_sift(test_X)"
   ]
  },
  {
   "cell_type": "markdown",
   "metadata": {},
   "source": [
    "### 4.1.3. SVM model: PCAFeatureDescriptor"
   ]
  },
  {
   "cell_type": "code",
   "execution_count": null,
   "metadata": {},
   "outputs": [],
   "source": [
    "feature_extractor = PCAFeatureExtractor(train_X) \n",
    "classifier_pca = SVMClassificationModel()\n",
    "\n",
    "# train the model on the features\n",
    "classifier_pca.fit(feature_extractor(train_X), train_y)\n",
    "\n",
    "# model/final pipeline\n",
    "model_pca = lambda X: classifier_pca(feature_extractor(X))"
   ]
  },
  {
   "cell_type": "code",
   "execution_count": null,
   "metadata": {},
   "outputs": [],
   "source": [
    "#### evaluate performance of the model on the training set\n",
    "train_y_pca, _ = model_pca(train_X)\n",
    "\n",
    "\"The performance on the training set is {:.2f}. This however, does not tell us much about the actual performance (generalisability).\".format(\n",
    "    accuracy_score(train_y, train_y_pca))"
   ]
  },
  {
   "cell_type": "code",
   "execution_count": null,
   "metadata": {},
   "outputs": [],
   "source": [
    "# predict the labels for the test set \n",
    "test_y_pca, _ = model_pca(test_X)"
   ]
  },
  {
   "cell_type": "markdown",
   "metadata": {},
   "source": [
    "## 4.2. Voting model: voting among SVM classifiers"
   ]
  },
  {
   "cell_type": "code",
   "execution_count": null,
   "metadata": {},
   "outputs": [],
   "source": [
    "feature_extractor_hog = HOGFeatureExtractor() \n",
    "feature_extractor_sift = SIFTFeatureExtractor() \n",
    "feature_extractor_pca = PCAFeatureExtractor(train_X) \n",
    "\n",
    "classifier = VotingClassificationModel()\n",
    "\n",
    "# train the model on the features\n",
    "classifier.fit([feature_extractor_hog(train_X), feature_extractor_sift(train_X), feature_extractor_pca(train_X)], train_y)\n",
    "\n",
    "# model/final pipeline\n",
    "model = lambda X: classifier([feature_extractor_hog(X), feature_extractor_sift(X), feature_extractor_pca(X)])"
   ]
  },
  {
   "cell_type": "code",
   "execution_count": null,
   "metadata": {},
   "outputs": [],
   "source": [
    "# predict the labels for the test set \n",
    "test_y = model(test_X)"
   ]
  },
  {
   "cell_type": "markdown",
   "metadata": {
    "papermill": {
     "duration": 0.103853,
     "end_time": "2021-03-08T07:59:10.903341",
     "exception": false,
     "start_time": "2021-03-08T07:59:10.799488",
     "status": "completed"
    },
    "tags": []
   },
   "source": [
    "# 5. Publishing best results"
   ]
  },
  {
   "cell_type": "code",
   "execution_count": null,
   "metadata": {
    "papermill": {
     "duration": 0.120392,
     "end_time": "2021-03-08T07:59:11.127762",
     "exception": false,
     "start_time": "2021-03-08T07:59:11.00737",
     "status": "completed"
    },
    "tags": []
   },
   "outputs": [],
   "source": [
    "submission = test.copy().drop('img', axis = 1)\n",
    "submission['class'] = test_y_hog\n",
    "\n",
    "submission"
   ]
  },
  {
   "cell_type": "code",
   "execution_count": null,
   "metadata": {
    "papermill": {
     "duration": 0.122516,
     "end_time": "2021-03-08T07:59:11.356409",
     "exception": false,
     "start_time": "2021-03-08T07:59:11.233893",
     "status": "completed"
    },
    "tags": []
   },
   "outputs": [],
   "source": [
    "submission.to_csv('submission.csv')"
   ]
  },
  {
   "cell_type": "markdown",
   "metadata": {
    "papermill": {
     "duration": 0.116655,
     "end_time": "2021-03-08T07:59:11.577703",
     "exception": false,
     "start_time": "2021-03-08T07:59:11.461048",
     "status": "completed"
    },
    "tags": []
   },
   "source": [
    "# 6. Discussion\n",
    "...\n",
    "\n",
    "In summary we contributed the following: \n",
    "* \n"
   ]
  }
 ],
 "metadata": {
  "kernelspec": {
   "display_name": "Python 3 (ipykernel)",
   "language": "python",
   "name": "python3"
  },
  "language_info": {
   "codemirror_mode": {
    "name": "ipython",
    "version": 3
   },
   "file_extension": ".py",
   "mimetype": "text/x-python",
   "name": "python",
   "nbconvert_exporter": "python",
   "pygments_lexer": "ipython3",
   "version": "3.9.7"
  }
 },
 "nbformat": 4,
 "nbformat_minor": 4
}
